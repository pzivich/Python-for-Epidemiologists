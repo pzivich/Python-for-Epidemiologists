{
 "cells": [
  {
   "cell_type": "code",
   "execution_count": null,
   "outputs": [],
   "source": [
    "# Inverse Probability of Treatment Weights\n",
    "In the last tutorial, we were interested in the average treatment effect. We will now switch to a slightly different target estimand, the average treatment effect in the treated. It is defined as\n",
    "$$E[Y^{a=1}|A=1] - E[Y^{a=0}|A=1]$$\n",
    "By causal consistency, this reduces to \n",
    "$$E[Y|A=1] - E[Y^{a=0}|A=1]$$\n",
    "which means we only need a slightly weaker version of conditional exchangeability, namely that $Y^{a=0} \\amalg A$\n",
    "\n",
    "Weights to estimate this effect are generally referred to as standardized mortality ratios. The important thing to remember is the target estimand of interest in our study\n",
    "\n",
    "## Standardized Mortality Ratio\n",
    "The SMR weights are slightly different in form. Among those who are treated ($A=1$), their weight is 1. We don't need to change their weight in the pseudo population. We do need to re-weight the untreated ($A=0$). The unstabilized weights take the following form\n",
    "$$\\frac{\\widehat{\\Pr}(A=1|L=l)}{\\widehat{\\Pr}(A=0|L=l)}$$\n",
    "Technically, these are inverse odds weights, but I will ignore these semantics. Stabilized weights look like\n",
    "$$\\frac{\\widehat{\\Pr}(A=1|L=l)}{\\widehat{\\Pr}(A=0|L=l)} \\frac{\\widehat{\\Pr}(A=0)}{\\widehat{\\Pr}(A=1)}$$\n",
    "\n",
    "For the average effect of the treatment in the untreated, we construct weights using a similar approach. To motivate our example, we will use a simulated data set included with *zEpid*. In the data set, we have a cohort of HIV-positive individuals. We are interested in the sample average treatment effect of antiretroviral therapy (ART) on all-cause mortality at 45-weeks. Based on substantive background knowledge, we believe that the treated and untreated population are exchangeable based on gender, age, CD4 T-cell count, and detectable viral load."
   ],
   "metadata": {
    "collapsed": false,
    "pycharm": {
     "name": "#%%\n"
    }
   }
  },
  {
   "cell_type": "code",
   "execution_count": 1,
   "metadata": {
    "pycharm": {
     "name": "#%%\n"
    }
   },
   "outputs": [
    {
     "name": "stdout",
     "output_type": "stream",
     "text": [
      "0.9.0\n"
     ]
    }
   ],
   "source": [
    "%matplotlib inline\n",
    "\n",
    "import numpy as np\n",
    "import pandas as pd\n",
    "import matplotlib.pyplot as plt\n",
    "\n",
    "import zepid\n",
    "from zepid import load_sample_data, spline\n",
    "from zepid.causal.ipw import IPTW\n",
    "\n",
    "print(zepid.__version__)"
   ]
  },
  {
   "cell_type": "code",
   "execution_count": 2,
   "metadata": {
    "pycharm": {
     "name": "#%%\n"
    }
   },
   "outputs": [
    {
     "name": "stdout",
     "output_type": "stream",
     "text": [
      "<class 'pandas.core.frame.DataFrame'>\n",
      "Int64Index: 547 entries, 0 to 546\n",
      "Data columns (total 9 columns):\n",
      " #   Column    Non-Null Count  Dtype  \n",
      "---  ------    --------------  -----  \n",
      " 0   id        547 non-null    int64  \n",
      " 1   male      547 non-null    int64  \n",
      " 2   age0      547 non-null    int64  \n",
      " 3   cd40      547 non-null    int64  \n",
      " 4   dvl0      547 non-null    int64  \n",
      " 5   art       547 non-null    int64  \n",
      " 6   dead      517 non-null    float64\n",
      " 7   t         547 non-null    float64\n",
      " 8   cd4_wk45  460 non-null    float64\n",
      "dtypes: float64(3), int64(6)\n",
      "memory usage: 42.7 KB\n"
     ]
    }
   ],
   "source": [
    "df = load_sample_data(False)\n",
    "df.info()\n",
    "\n",
    "df[['age_rs1', 'age_rs2']] = spline(df, 'age0', n_knots=3, term=2, restricted=True)\n",
    "df[['cd4_rs1', 'cd4_rs2']] = spline(df, 'cd40', n_knots=3, term=2, restricted=True)"
   ]
  },
  {
   "cell_type": "markdown",
   "metadata": {
    "pycharm": {
     "name": "#%% md\n"
    }
   },
   "source": [
    "## Average Treatment Effect in the Treated\n",
    "To start, we will estimate the average treatment effect in the treated. We can do that by using `IPTW` and specifying the option `standardize='exposed'`, which will calculate the appropriate weights for our target estimand. "
   ]
  },
  {
   "cell_type": "code",
   "execution_count": 3,
   "metadata": {
    "pycharm": {
     "name": "#%%\n"
    }
   },
   "outputs": [
    {
     "name": "stderr",
     "output_type": "stream",
     "text": [
      "/home/pzivich/Documents/open-source/zEpid/zepid/causal/ipw/IPTW.py:175: UserWarning: For the ATT and the ATU, confidence intervals calculated using the robust-variance approach (what is currently done in zEpid) may underestimate the variance. Therefore when requesting the ATT or the ATU, it is recommended to use bootstrapped confidence intervals instead.\n",
      "  \"intervals instead.\", UserWarning)\n"
     ]
    }
   ],
   "source": [
    "iptw = IPTW(df.drop(columns='cd4_wk45'), treatment='art', outcome='dead', standardize='exposed')"
   ]
  },
  {
   "cell_type": "markdown",
   "metadata": {
    "pycharm": {
     "name": "#%% md\n"
    }
   },
   "source": [
    "Afterwards, we proceed with the same process to calculate the weights and fit the marginal structural model detailed in the previous IPTW tutorial. Below are the results"
   ]
  },
  {
   "cell_type": "code",
   "execution_count": 4,
   "metadata": {
    "pycharm": {
     "name": "#%%\n"
    }
   },
   "outputs": [
    {
     "name": "stderr",
     "output_type": "stream",
     "text": [
      "/home/pzivich/Documents/open-source/zEpid/zepid/causal/ipw/IPTW.py:327: UserWarning: All missing outcome data is assumed to be missing completely at random. To relax this assumption to outcome data is missing at random please use the `missing_model()` function\n",
      "  \"function\", UserWarning)\n"
     ]
    },
    {
     "name": "stdout",
     "output_type": "stream",
     "text": [
      "======================================================================\n",
      "              Inverse Probability of Treatment Weights                \n",
      "======================================================================\n",
      "Treatment:        art             No. Observations:     547                 \n",
      "Outcome:          dead            No. Missing Outcome:  30                  \n",
      "g-Model:          Logistic        Missing Model:        None                \n",
      "======================================================================\n",
      "Risk Difference\n",
      "----------------------------------------------------------------------\n",
      "              RD  SE(RD)  95%LCL  95%UCL\n",
      "labels                                  \n",
      "Intercept  0.221   0.025   0.172   0.269\n",
      "art       -0.091   0.046  -0.180  -0.002\n",
      "----------------------------------------------------------------------\n",
      "Risk Ratio\n",
      "              RR  SE(log(RR))  95%LCL  95%UCL\n",
      "labels                                       \n",
      "Intercept  0.221        0.112   0.177   0.275\n",
      "art        0.588        0.315   0.317   1.092\n",
      "----------------------------------------------------------------------\n",
      "Odds Ratio\n",
      "              OR  SE(log(OR))  95%LCL  95%UCL\n",
      "labels                                       \n",
      "Intercept  0.283        0.143   0.214   0.375\n",
      "art        0.527        0.368   0.256   1.084\n",
      "======================================================================\n"
     ]
    }
   ],
   "source": [
    "iptw.treatment_model('male + age0 + age_rs1 + age_rs2 + cd40 + cd4_rs1 + cd4_rs2 + dvl0', \n",
    "                     stabilized=False, print_results=False)\n",
    "iptw.marginal_structural_model('art')\n",
    "iptw.fit()\n",
    "iptw.summary()"
   ]
  },
  {
   "cell_type": "markdown",
   "metadata": {
    "pycharm": {
     "name": "#%% md\n"
    }
   },
   "source": [
    "### Stabilized\n",
    "Additionally, we can calculate the stabilized weights"
   ]
  },
  {
   "cell_type": "code",
   "execution_count": 5,
   "metadata": {
    "pycharm": {
     "name": "#%%\n"
    }
   },
   "outputs": [
    {
     "name": "stderr",
     "output_type": "stream",
     "text": [
      "/home/pzivich/Documents/open-source/zEpid/zepid/causal/ipw/IPTW.py:175: UserWarning: For the ATT and the ATU, confidence intervals calculated using the robust-variance approach (what is currently done in zEpid) may underestimate the variance. Therefore when requesting the ATT or the ATU, it is recommended to use bootstrapped confidence intervals instead.\n",
      "  \"intervals instead.\", UserWarning)\n",
      "/home/pzivich/Documents/open-source/zEpid/zepid/causal/ipw/IPTW.py:327: UserWarning: All missing outcome data is assumed to be missing completely at random. To relax this assumption to outcome data is missing at random please use the `missing_model()` function\n",
      "  \"function\", UserWarning)\n"
     ]
    },
    {
     "name": "stdout",
     "output_type": "stream",
     "text": [
      "======================================================================\n",
      "              Inverse Probability of Treatment Weights                \n",
      "======================================================================\n",
      "Treatment:        art             No. Observations:     547                 \n",
      "Outcome:          dead            No. Missing Outcome:  30                  \n",
      "g-Model:          Logistic        Missing Model:        None                \n",
      "======================================================================\n",
      "Risk Difference\n",
      "----------------------------------------------------------------------\n",
      "              RD  SE(RD)  95%LCL  95%UCL\n",
      "labels                                  \n",
      "Intercept  0.221   0.025   0.172   0.269\n",
      "art       -0.091   0.046  -0.180  -0.002\n",
      "----------------------------------------------------------------------\n",
      "Risk Ratio\n",
      "              RR  SE(log(RR))  95%LCL  95%UCL\n",
      "labels                                       \n",
      "Intercept  0.221        0.112   0.177   0.275\n",
      "art        0.588        0.315   0.317   1.092\n",
      "----------------------------------------------------------------------\n",
      "Odds Ratio\n",
      "              OR  SE(log(OR))  95%LCL  95%UCL\n",
      "labels                                       \n",
      "Intercept  0.283        0.143   0.214   0.375\n",
      "art        0.527        0.368   0.256   1.084\n",
      "======================================================================\n"
     ]
    }
   ],
   "source": [
    "iptw = IPTW(df.drop(columns='cd4_wk45'), treatment='art', outcome='dead', standardize='exposed')\n",
    "iptw.treatment_model('male + age0 + age_rs1 + age_rs2 + cd40 + cd4_rs1 + cd4_rs2 + dvl0', \n",
    "                     print_results=False)\n",
    "iptw.marginal_structural_model('art')\n",
    "iptw.fit()\n",
    "iptw.summary()"
   ]
  },
  {
   "cell_type": "markdown",
   "metadata": {
    "pycharm": {
     "name": "#%% md\n"
    }
   },
   "source": [
    "The results, as expected, are the same between the unstabilized and stabilized weights. We can also use the same process to estimate the effect of ART on continuous treatments detailed in the IPTW tutorial. I leave that as a challenge for you\n",
    "\n",
    "## Average Treatment Effect in the Untreated\n",
    "We can also standardize to the untreated. Below is our estimand\n",
    "$$E[Y^{a=1}|A=0] - E[Y|A=0]$$\n",
    "Instead of setting `standardize` to exposed, we instead set `standardize='unexposed'`. Let's look at an example with unstabilized weights"
   ]
  },
  {
   "cell_type": "code",
   "execution_count": 6,
   "metadata": {
    "pycharm": {
     "name": "#%%\n"
    }
   },
   "outputs": [
    {
     "name": "stderr",
     "output_type": "stream",
     "text": [
      "/home/pzivich/Documents/open-source/zEpid/zepid/causal/ipw/IPTW.py:175: UserWarning: For the ATT and the ATU, confidence intervals calculated using the robust-variance approach (what is currently done in zEpid) may underestimate the variance. Therefore when requesting the ATT or the ATU, it is recommended to use bootstrapped confidence intervals instead.\n",
      "  \"intervals instead.\", UserWarning)\n",
      "/home/pzivich/Documents/open-source/zEpid/zepid/causal/ipw/IPTW.py:327: UserWarning: All missing outcome data is assumed to be missing completely at random. To relax this assumption to outcome data is missing at random please use the `missing_model()` function\n",
      "  \"function\", UserWarning)\n"
     ]
    },
    {
     "name": "stdout",
     "output_type": "stream",
     "text": [
      "======================================================================\n",
      "              Inverse Probability of Treatment Weights                \n",
      "======================================================================\n",
      "Treatment:        art             No. Observations:     547                 \n",
      "Outcome:          dead            No. Missing Outcome:  30                  \n",
      "g-Model:          Logistic        Missing Model:        None                \n",
      "======================================================================\n",
      "Risk Difference\n",
      "----------------------------------------------------------------------\n",
      "              RD  SE(RD)  95%LCL  95%UCL\n",
      "labels                                  \n",
      "Intercept  0.175   0.018   0.139   0.211\n",
      "art       -0.080   0.038  -0.154  -0.007\n",
      "----------------------------------------------------------------------\n",
      "Risk Ratio\n",
      "              RR  SE(log(RR))  95%LCL  95%UCL\n",
      "labels                                       \n",
      "Intercept  0.175        0.104   0.143   0.214\n",
      "art        0.543        0.361   0.267   1.101\n",
      "----------------------------------------------------------------------\n",
      "Odds Ratio\n",
      "              OR  SE(log(OR))  95%LCL  95%UCL\n",
      "labels                                       \n",
      "Intercept  0.212        0.125   0.166   0.271\n",
      "art        0.495        0.402   0.225   1.088\n",
      "======================================================================\n"
     ]
    }
   ],
   "source": [
    "iptw = IPTW(df.drop(columns='cd4_wk45'), treatment='art', outcome='dead', standardize='unexposed')\n",
    "iptw.treatment_model('male + age0 + age_rs1 + age_rs2 + cd40 + cd4_rs1 + cd4_rs2 + dvl0', \n",
    "                     stabilized=False, print_results=False)\n",
    "iptw.marginal_structural_model('art')\n",
    "iptw.fit()\n",
    "iptw.summary()"
   ]
  },
  {
   "cell_type": "markdown",
   "metadata": {
    "pycharm": {
     "name": "#%% md\n"
    }
   },
   "source": [
    "Now with stabilized weights..."
   ]
  },
  {
   "cell_type": "code",
   "execution_count": 7,
   "metadata": {
    "pycharm": {
     "name": "#%%\n"
    }
   },
   "outputs": [
    {
     "name": "stderr",
     "output_type": "stream",
     "text": [
      "/home/pzivich/Documents/open-source/zEpid/zepid/causal/ipw/IPTW.py:175: UserWarning: For the ATT and the ATU, confidence intervals calculated using the robust-variance approach (what is currently done in zEpid) may underestimate the variance. Therefore when requesting the ATT or the ATU, it is recommended to use bootstrapped confidence intervals instead.\n",
      "  \"intervals instead.\", UserWarning)\n",
      "/home/pzivich/Documents/open-source/zEpid/zepid/causal/ipw/IPTW.py:327: UserWarning: All missing outcome data is assumed to be missing completely at random. To relax this assumption to outcome data is missing at random please use the `missing_model()` function\n",
      "  \"function\", UserWarning)\n"
     ]
    },
    {
     "name": "stdout",
     "output_type": "stream",
     "text": [
      "======================================================================\n",
      "              Inverse Probability of Treatment Weights                \n",
      "======================================================================\n",
      "Treatment:        art             No. Observations:     547                 \n",
      "Outcome:          dead            No. Missing Outcome:  30                  \n",
      "g-Model:          Logistic        Missing Model:        None                \n",
      "======================================================================\n",
      "Risk Difference\n",
      "----------------------------------------------------------------------\n",
      "              RD  SE(RD)  95%LCL  95%UCL\n",
      "labels                                  \n",
      "Intercept  0.175   0.018   0.139   0.211\n",
      "art       -0.080   0.038  -0.154  -0.007\n",
      "----------------------------------------------------------------------\n",
      "Risk Ratio\n",
      "              RR  SE(log(RR))  95%LCL  95%UCL\n",
      "labels                                       \n",
      "Intercept  0.175        0.104   0.143   0.214\n",
      "art        0.543        0.361   0.267   1.101\n",
      "----------------------------------------------------------------------\n",
      "Odds Ratio\n",
      "              OR  SE(log(OR))  95%LCL  95%UCL\n",
      "labels                                       \n",
      "Intercept  0.212        0.125   0.166   0.271\n",
      "art        0.495        0.402   0.225   1.088\n",
      "======================================================================\n"
     ]
    }
   ],
   "source": [
    "iptw = IPTW(df.drop(columns='cd4_wk45'), treatment='art', outcome='dead', standardize='unexposed')\n",
    "iptw.treatment_model('male + age0 + age_rs1 + age_rs2 + cd40 + cd4_rs1 + cd4_rs2 + dvl0', \n",
    "                     stabilized=False, print_results=False)\n",
    "iptw.marginal_structural_model('art')\n",
    "iptw.fit()\n",
    "iptw.summary()"
   ]
  },
  {
   "cell_type": "markdown",
   "source": [
    "So, why are the results different? Well it is simply because our target estimand is different. The distribution of potential modifiers will differ between the treated and untreated. The difference in the distribution of modifiers will result in different average treatment effects. This is why it is essential to clearly communicate the target estimand of your analysis.\n",
    "\n",
    "# Conclusion\n",
    "In this tutorial, I went through the basics of inverse probability of treatment weights modified to estimate the average treatment effect in the (un)treated and using them to estimate marginal structural models. See the below reference for further details on these weights\n",
    "\n",
    "## References\n",
    "Sato T, Matsuyama Y. (2003). Marginal structural models as a tool for standardization. Epidemiology, 14(6), 680-686."
   ],
   "metadata": {
    "collapsed": false,
    "pycharm": {
     "name": "#%% md\n"
    }
   }
  }
 ],
 "metadata": {
  "kernelspec": {
   "display_name": "Python 3",
   "language": "python",
   "name": "python3"
  },
  "language_info": {
   "codemirror_mode": {
    "name": "ipython",
    "version": 3
   },
   "file_extension": ".py",
   "mimetype": "text/x-python",
   "name": "python",
   "nbconvert_exporter": "python",
   "pygments_lexer": "ipython3",
   "version": "3.6.5"
  }
 },
 "nbformat": 4,
 "nbformat_minor": 2
}