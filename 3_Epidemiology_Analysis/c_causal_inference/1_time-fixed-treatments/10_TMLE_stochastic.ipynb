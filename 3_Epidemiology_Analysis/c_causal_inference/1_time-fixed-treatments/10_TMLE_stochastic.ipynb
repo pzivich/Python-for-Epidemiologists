{
 "cells": [
  {
   "cell_type": "markdown",
   "source": [
    "# Targeted Maximum Likelihood Estimator\n",
    "As discussed in other tutorials, the targeted maximum likelihood estimator (TMLE) is a doubly robust estimator. In addition to the average causal effect (defined as $E[Y^{a=1}] - E[Y^{a=0}]$), TMLE can additionally be used to estimate the average causal effect of stochastic treatment regimes\n",
    "\n",
    "## Stochastic treatments\n",
    "Stochastic treatment plans are interventions where some proportion $p$ are treated for a binary treatment $A$. Therefore, our estimand is \n",
    "$$\\psi = E[Y^{a*}]$$\n",
    "where $a*$ is the treatment plan that corresponds to proportion $p$. For a specific example, we may be interested in the incidence of the outcome $Y$ when $p=0.5$.\n",
    "\n",
    "## TMLE Procedure\n",
    "The estimation procedure is similar to the standard TMLE with some modifications. Below is a brief outline\n",
    "\n",
    "1) Initial estimates for $Y$ are predicted from a statistical model under the observed treatment $Q_0$.\n",
    "$$E[Y|A, L]$$\n",
    "\n",
    "2) Predicted probabilities of treatment are estimated from a second statistical model predicting the treatment\n",
    "$$\\Pr(A=1|L)$$\n",
    "\n",
    "3) Using the predicted probabilities from step 2, we calculate the corresponding weight. Note that the numerator of the weight is the probability of treatment *under the new treatment plan*\n",
    "$$H = \\frac{\\Pr(A=a*|L)}{\\Pr(A=a|L)}$$\n",
    "\n",
    "4) Calculate the targeted model $Q_1$ through the targeting step. The following weighted logit model is estimated \n",
    "$$logit(Y) = logit(Q_0) + \\epsilon$$\n",
    "\n",
    "5) Using $Q_0$ and the estimated $\\epsilon$, the incidence under $a*$ is estimated. \n",
    "$$Y^{a*} = expit(logit(Q_0) + \\epsilon)$$\n",
    "Since there are many possible occurrences for $a*$, we can evaluate the above quantity through a Monte-Carlo integration procedure. Briefly, a large number of possible of allotments of $a*$ under $p$ are generated. Each of these is evaluated using the above procedure. The final quantity is the average of these various plans\n",
    "\n",
    "## An example\n",
    "To motivate our example, we will use a simulated data set included with *zEpid*. In the data set, we have a cohort of HIV-positive individuals. We are interested in the average treatment effect of antiretroviral therapy (ART) on all-cause mortality at 45-weeks. Based on substantive background knowledge, we believe that the treated and untreated population are exchangeable based on gender, age, CD4 T-cell count, and detectable viral load. More specifically, we are interested in the following treatment plans $p = \\{0.4, 0.45, 0.5, 0.55, 0.6\\}$\n",
    "\n",
    "We will focus on a complete case analysis since `StochasticTMLE` does not currently support censored data. Therefore, we will drop all the missing data on the outcome (`dead`). This will leave 517 observations with no missing data"
   ],
   "metadata": {
    "collapsed": false,
    "pycharm": {
     "name": "#%% md\n"
    }
   }
  },
  {
   "cell_type": "code",
   "execution_count": 1,
   "metadata": {
    "pycharm": {
     "name": "#%%\n"
    }
   },
   "outputs": [
    {
     "name": "stdout",
     "output_type": "stream",
     "text": [
      "0.9.0\n"
     ]
    }
   ],
   "source": [
    "%matplotlib inline\n",
    "import matplotlib.pyplot as plt\n",
    "\n",
    "import zepid\n",
    "from zepid import load_sample_data, spline\n",
    "from zepid.causal.doublyrobust import StochasticTMLE\n",
    "\n",
    "print(zepid.__version__)"
   ]
  },
  {
   "cell_type": "code",
   "execution_count": 2,
   "metadata": {
    "pycharm": {
     "name": "#%%\n"
    }
   },
   "outputs": [
    {
     "name": "stdout",
     "output_type": "stream",
     "text": [
      "<class 'pandas.core.frame.DataFrame'>\n",
      "Int64Index: 517 entries, 0 to 546\n",
      "Data columns (total 12 columns):\n",
      " #   Column   Non-Null Count  Dtype  \n",
      "---  ------   --------------  -----  \n",
      " 0   id       517 non-null    int64  \n",
      " 1   male     517 non-null    int64  \n",
      " 2   age0     517 non-null    int64  \n",
      " 3   cd40     517 non-null    int64  \n",
      " 4   dvl0     517 non-null    int64  \n",
      " 5   art      517 non-null    int64  \n",
      " 6   dead     517 non-null    float64\n",
      " 7   t        517 non-null    float64\n",
      " 8   age_rs1  517 non-null    float64\n",
      " 9   age_rs2  517 non-null    float64\n",
      " 10  cd4_rs1  517 non-null    float64\n",
      " 11  cd4_rs2  517 non-null    float64\n",
      "dtypes: float64(6), int64(6)\n",
      "memory usage: 52.5 KB\n"
     ]
    }
   ],
   "source": [
    "df = load_sample_data(False)\n",
    "df[['age_rs1', 'age_rs2']] = spline(df, 'age0', n_knots=3, term=2, restricted=True)\n",
    "df[['cd4_rs1', 'cd4_rs2']] = spline(df, 'cd40', n_knots=3, term=2, restricted=True)\n",
    "\n",
    "df = df.drop(columns=['cd4_wk45']).dropna()\n",
    "df.info()"
   ]
  },
  {
   "cell_type": "markdown",
   "metadata": {
    "pycharm": {
     "name": "#%% md\n"
    }
   },
   "source": [
    "Our data is now ready to conduct a complete case analysis using TMLE. First, we initialize `StochasticTMLE` with our complete-case data (`df`), the treatment (`art`), and the outcome (`dead`). We will also specify the optional argument `verbose=True` so all intermediate parametric models are printed to the console."
   ]
  },
  {
   "cell_type": "code",
   "execution_count": 3,
   "metadata": {
    "pycharm": {
     "name": "#%%\n"
    }
   },
   "outputs": [],
   "source": [
    "stmle = StochasticTMLE(df, exposure='art', outcome='dead', verbose=True)"
   ]
  },
  {
   "cell_type": "markdown",
   "metadata": {
    "pycharm": {
     "name": "#%% md\n"
    }
   },
   "source": [
    "### Treatment Model\n",
    "As the first step, we will estimate the treatment model. We believe the sufficient set for the treatment model is gender (`male`), age (`age0`), CD4 T-cell (`cd40`) and detectable viral load (`dvl0`). To relax the functional for assumptions, we will model age and CD4 using restricted quadratic splines"
   ]
  },
  {
   "cell_type": "code",
   "execution_count": 4,
   "metadata": {
    "pycharm": {
     "name": "#%%\n"
    }
   },
   "outputs": [
    {
     "name": "stdout",
     "output_type": "stream",
     "text": [
      "==============================================================================\n",
      "Propensity Score Model\n",
      "                 Generalized Linear Model Regression Results                  \n",
      "==============================================================================\n",
      "Dep. Variable:                    art   No. Observations:                  517\n",
      "Model:                            GLM   Df Residuals:                      508\n",
      "Model Family:                Binomial   Df Model:                            8\n",
      "Link Function:                  logit   Scale:                          1.0000\n",
      "Method:                          IRLS   Log-Likelihood:                -206.06\n",
      "Date:                Wed, 30 Dec 2020   Deviance:                       412.12\n",
      "Time:                        08:45:42   Pearson chi2:                     510.\n",
      "No. Iterations:                     5                                         \n",
      "Covariance Type:            nonrobust                                         \n",
      "==============================================================================\n",
      "                 coef    std err          z      P>|z|      [0.025      0.975]\n",
      "------------------------------------------------------------------------------\n",
      "Intercept      1.4498      1.679      0.864      0.388      -1.841       4.741\n",
      "male          -0.1159      0.321     -0.361      0.718      -0.745       0.513\n",
      "age0          -0.1026      0.059     -1.726      0.084      -0.219       0.014\n",
      "age_rs1        0.0048      0.003      1.706      0.088      -0.001       0.010\n",
      "age_rs2       -0.0077      0.006     -1.373      0.170      -0.019       0.003\n",
      "cd40           0.0041      0.004      0.964      0.335      -0.004       0.012\n",
      "cd4_rs1    -2.422e-05    1.2e-05     -2.014      0.044   -4.78e-05   -6.49e-07\n",
      "cd4_rs2     8.875e-05   4.55e-05      1.952      0.051   -3.81e-07       0.000\n",
      "dvl0          -0.0158      0.399     -0.040      0.968      -0.797       0.765\n",
      "==============================================================================\n",
      "==============================================================================\n"
     ]
    }
   ],
   "source": [
    "stmle.exposure_model('male + age0 + age_rs1 + age_rs2 + cd40 + cd4_rs1 + cd4_rs2 + dvl0')"
   ]
  },
  {
   "cell_type": "markdown",
   "metadata": {
    "pycharm": {
     "name": "#%% md\n"
    }
   },
   "source": [
    "### Outcome Model\n",
    "Now, we will estimate the outcome model. We will model the outcomes as ART (`art`), gender (`male`), age (`age0`), CD4 T-cell (`cd40`) and detectable viral load (`dvl0`). Again, we will model age and CD4 using restricted quadratic splines"
   ]
  },
  {
   "cell_type": "code",
   "execution_count": 5,
   "metadata": {
    "pycharm": {
     "name": "#%%\n"
    }
   },
   "outputs": [
    {
     "name": "stdout",
     "output_type": "stream",
     "text": [
      "==============================================================================\n",
      "Outcome model\n",
      "                 Generalized Linear Model Regression Results                  \n",
      "==============================================================================\n",
      "Dep. Variable:                   dead   No. Observations:                  517\n",
      "Model:                            GLM   Df Residuals:                      508\n",
      "Model Family:                Binomial   Df Model:                            8\n",
      "Link Function:                  logit   Scale:                          1.0000\n",
      "Method:                          IRLS   Log-Likelihood:                -204.76\n",
      "Date:                Wed, 30 Dec 2020   Deviance:                       409.52\n",
      "Time:                        08:45:42   Pearson chi2:                     511.\n",
      "No. Iterations:                     6                                         \n",
      "Covariance Type:            nonrobust                                         \n",
      "==============================================================================\n",
      "                 coef    std err          z      P>|z|      [0.025      0.975]\n",
      "------------------------------------------------------------------------------\n",
      "Intercept     -4.2878      2.700     -1.588      0.112      -9.581       1.005\n",
      "male          -0.1008      0.330     -0.306      0.760      -0.747       0.545\n",
      "age0           0.1616      0.096      1.688      0.091      -0.026       0.349\n",
      "age_rs1       -0.0059      0.004     -1.508      0.132      -0.013       0.002\n",
      "age_rs2        0.0130      0.006      2.050      0.040       0.001       0.025\n",
      "cd40          -0.0123      0.004     -3.041      0.002      -0.020      -0.004\n",
      "cd4_rs1     2.015e-05   1.17e-05      1.721      0.085    -2.8e-06    4.31e-05\n",
      "cd4_rs2    -4.464e-05   4.59e-05     -0.973      0.330      -0.000    4.53e-05\n",
      "dvl0          -0.1056      0.396     -0.267      0.790      -0.882       0.671\n",
      "==============================================================================\n",
      "==============================================================================\n"
     ]
    }
   ],
   "source": [
    "stmle.outcome_model('male + age0 + age_rs1 + age_rs2 + cd40 + cd4_rs1 + cd4_rs2 + dvl0')"
   ]
  },
  {
   "cell_type": "markdown",
   "metadata": {
    "pycharm": {
     "name": "#%% md\n"
    }
   },
   "source": [
    "### Targeting Step\n",
    "In the final step; targeting, Monte-Carlo integration, and estimation are all completed. This is done through the `fit()` function. In this function, we specify the percent to be treated in the population (0.4 in this example). "
   ]
  },
  {
   "cell_type": "code",
   "execution_count": 6,
   "metadata": {
    "pycharm": {
     "name": "#%%\n"
    }
   },
   "outputs": [
    {
     "name": "stdout",
     "output_type": "stream",
     "text": [
      "==============================================================================\n",
      "Targeting Model\n",
      "                 Generalized Linear Model Regression Results                  \n",
      "==============================================================================\n",
      "Dep. Variable:                   dead   No. Observations:                  517\n",
      "Model:                            GLM   Df Residuals:                   513.34\n",
      "Model Family:                Binomial   Df Model:                            0\n",
      "Link Function:                  logit   Scale:                          1.0000\n",
      "Method:                          IRLS   Log-Likelihood:                -189.56\n",
      "Date:                Wed, 30 Dec 2020   Deviance:                       379.12\n",
      "Time:                        08:45:42   Pearson chi2:                     521.\n",
      "No. Iterations:                     5                                         \n",
      "Covariance Type:            nonrobust                                         \n",
      "==============================================================================\n",
      "                 coef    std err          z      P>|z|      [0.025      0.975]\n",
      "------------------------------------------------------------------------------\n",
      "const         -0.1903      0.132     -1.438      0.150      -0.450       0.069\n",
      "==============================================================================\n"
     ]
    }
   ],
   "source": [
    "stmle.fit(p=0.4, samples=500)"
   ]
  },
  {
   "cell_type": "markdown",
   "metadata": {
    "pycharm": {
     "name": "#%% md\n"
    }
   },
   "source": [
    "We can view the overall results through the following code."
   ]
  },
  {
   "cell_type": "code",
   "execution_count": 7,
   "metadata": {
    "pycharm": {
     "name": "#%%\n"
    }
   },
   "outputs": [
    {
     "name": "stdout",
     "output_type": "stream",
     "text": [
      "======================================================================\n",
      "          Stochastic Targeted Maximum Likelihood Estimator            \n",
      "======================================================================\n",
      "Treatment:        art             No. Observations:     517                 \n",
      "Outcome:          dead            No. Truncated:        0                   \n",
      "Q-Model:          Logistic        g-model:              Logistic            \n",
      "No. Resamples:    500            \n",
      "======================================================================\n",
      "Overall incidence:       0.146\n",
      "======================================================================\n",
      "Marginal 95% CL:         [0.112 0.181]\n",
      "Conditional 95% CL:      [0.113 0.179]\n",
      "======================================================================\n"
     ]
    }
   ],
   "source": [
    "stmle.summary()"
   ]
  },
  {
   "cell_type": "markdown",
   "metadata": {
    "pycharm": {
     "name": "#%% md\n"
    }
   },
   "source": [
    "Our results indicate that had 40% of the cohort been given ART at diagnosis the incidence of all-cause mortality at 45 weeks would have been 14.6% (95% CL: 11.2%, 18.1%). \n",
    "\n",
    "### Diagnostics\n",
    "Diagnostics for the g-model and the Q-model are available through the `run_diagnostics()` function."
   ]
  },
  {
   "cell_type": "code",
   "execution_count": 8,
   "metadata": {
    "pycharm": {
     "name": "#%%\n"
    }
   },
   "outputs": [
    {
     "name": "stdout",
     "output_type": "stream",
     "text": [
      "======================================================================\n",
      "                         Diagnostics                                  \n",
      "======================================================================\n",
      "                 Natural Course Prediction Accuracy                   \n",
      "Mean:                    0.0                 \n",
      "Standard Deviation:      0.349               \n",
      "Median:                  -0.107              \n",
      "Minimum value:           -0.696              \n",
      "Maximum value:           0.974               \n",
      "----------------------------------------------------------------------\n",
      "               Inverse Probability Weight Denominator                 \n",
      "Mean (expected=2):       1.987               \n",
      "Standard Deviation:      2.342               \n",
      "Minimum value:           1.06                \n",
      "Maximum value:           16.897              \n",
      "----------------------------------------------------------------------\n",
      "                        Targeting Step                                \n",
      "Epsilon:                 -0.19               \n",
      "======================================================================\n"
     ]
    },
    {
     "data": {
      "image/png": "[encoded data removed]",
      "text/plain": [
       "<Figure size 576x288 with 2 Axes>"
      ]
     },
     "metadata": {
      "needs_background": "light"
     },
     "output_type": "display_data"
    }
   ],
   "source": [
    "stmle.run_diagnostics()"
   ]
  },
  {
   "cell_type": "markdown",
   "metadata": {
    "pycharm": {
     "name": "#%% md\n"
    }
   },
   "source": [
    "Both models appear to have adequate performance (there are no obvious problems). Note that these results do not assess the treatment plan of interest, but rather the g-model denominator and the performance of the Q-model for the observed treatment values. It should be noted that the positivity assumption is weakened under the stochastic intervention. \n",
    "\n",
    "### Tuning parameters\n",
    "Luckily in our example, we don't have an issue estimating the predicted probabilities of ART. This can possibly cause issues in the estimation procedure. One solution is to \"trim\" the estimated propensity scores. This is commonly used in propensity score and IPTW methods. By using the bound optional argument in the `exposure_model()` function, we can restrict the predicted probabilities.\n",
    "\n",
    "As demonstration, we will restrict to predicted probabilties of treatment between 0.08 to 0.95"
   ]
  },
  {
   "cell_type": "code",
   "execution_count": 9,
   "metadata": {
    "pycharm": {
     "name": "#%%\n"
    }
   },
   "outputs": [
    {
     "name": "stdout",
     "output_type": "stream",
     "text": [
      "======================================================================\n",
      "          Stochastic Targeted Maximum Likelihood Estimator            \n",
      "======================================================================\n",
      "Treatment:        art             No. Observations:     517                 \n",
      "Outcome:          dead            No. Truncated:        0                   \n",
      "Q-Model:          Logistic        g-model:              Logistic            \n",
      "No. Resamples:    100            \n",
      "======================================================================\n",
      "Overall incidence:       0.15\n",
      "======================================================================\n",
      "Marginal 95% CL:         [0.115 0.184]\n",
      "Conditional 95% CL:      [0.117 0.183]\n",
      "======================================================================\n"
     ]
    }
   ],
   "source": [
    "stmle = StochasticTMLE(df, exposure='art', outcome='dead', verbose=False)\n",
    "stmle.exposure_model('male + age0 + cd40 + cd4_rs1 + cd4_rs2 + dvl0', bound=[0.08, 0.95])\n",
    "stmle.outcome_model('art + male + age0 + cd40 + cd4_rs1 + cd4_rs2 + dvl0')\n",
    "stmle.fit(p=0.4)\n",
    "stmle.summary()"
   ]
  },
  {
   "cell_type": "markdown",
   "metadata": {
    "pycharm": {
     "name": "#%% md\n"
    }
   },
   "source": [
    "When restricting the probabilities in our example, similar results are obtained. Caution should be used when using this argument. This approach may \"smooth\" over important outliers or change the generalizability/transportability of your results. This should be considered as a last option if you have trouble estimating TMLE with good performance for the IPTW diagnostics.\n",
    "\n",
    "### A Simple Visualization\n",
    "Now we will create a simple visualization for all the treatment plans of interest. We do this by writing a `for` loop to cycle through the treatment plans of interest."
   ]
  },
  {
   "cell_type": "code",
   "execution_count": 10,
   "metadata": {
    "pycharm": {
     "name": "#%%\n"
    }
   },
   "outputs": [
    {
     "data": {
      "image/png": "[encoded data removed]",
      "text/plain": [
       "<Figure size 432x288 with 1 Axes>"
      ]
     },
     "metadata": {
      "needs_background": "light"
     },
     "output_type": "display_data"
    }
   ],
   "source": [
    "plans = [0.4, 0.45, 0.5, 0.55, 0.6]\n",
    "est = []\n",
    "lcl = []\n",
    "ucl = []\n",
    "\n",
    "for i in plans:\n",
    "    stmle = StochasticTMLE(df, exposure='art', outcome='dead', verbose=False)\n",
    "    stmle.exposure_model('male + age0 + cd40 + cd4_rs1 + cd4_rs2 + dvl0')\n",
    "    stmle.outcome_model('art + male + age0 + cd40 + cd4_rs1 + cd4_rs2 + dvl0')\n",
    "    stmle.fit(p=i)\n",
    "    est.append(stmle.marginal_outcome)\n",
    "    lcl.append(stmle.marginal_ci[0])\n",
    "    ucl.append(stmle.marginal_ci[1])\n",
    "\n",
    "plt.plot(plans, est, 'o-', c='b')\n",
    "plt.fill_between(plans, ucl, lcl, alpha=0.35, color='b')\n",
    "plt.xticks(plans)\n",
    "plt.xlim(0.39, 0.61)\n",
    "plt.ylim(0.0, 0.3)\n",
    "plt.xlabel(r'$a*$')\n",
    "plt.ylabel(r'$E[Y^{a*}]$')\n",
    "plt.show()"
   ]
  },
  {
   "cell_type": "markdown",
   "metadata": {
    "pycharm": {
     "name": "#%% md\n"
    }
   },
   "source": [
    "From this graphic, we can easily visualize how changing `p` results in a change in the incidence of death at 45 weeks. If we wanted, we could extend this to other values or values between those\n",
    "\n",
    "### Conditional Interventions\n",
    "The proportion treated `p` can also be conditional on observed variables. As a simple example, we will look at `p` conditional on gender."
   ]
  },
  {
   "cell_type": "code",
   "execution_count": 11,
   "metadata": {
    "pycharm": {
     "name": "#%%\n"
    }
   },
   "outputs": [
    {
     "name": "stdout",
     "output_type": "stream",
     "text": [
      "======================================================================\n",
      "          Stochastic Targeted Maximum Likelihood Estimator            \n",
      "======================================================================\n",
      "Treatment:        art             No. Observations:     517                 \n",
      "Outcome:          dead            No. Truncated:        0                   \n",
      "Q-Model:          Logistic        g-model:              Logistic            \n",
      "No. Resamples:    100            \n",
      "======================================================================\n",
      "Overall incidence:       0.13\n",
      "======================================================================\n",
      "Marginal 95% CL:         [0.088 0.172]\n",
      "Conditional 95% CL:      [0.089 0.171]\n",
      "======================================================================\n"
     ]
    }
   ],
   "source": [
    "stmle = StochasticTMLE(df, exposure='art', outcome='dead')\n",
    "stmle.exposure_model('male + age0 + cd40 + cd4_rs1 + cd4_rs2 + dvl0')\n",
    "stmle.outcome_model('art + male + age0 + cd40 + cd4_rs1 + cd4_rs2 + dvl0')\n",
    "stmle.fit(p=[0.2, 0.7], conditional=[\"df['male']==1\", \"df['male']==0\"])\n",
    "stmle.summary()"
   ]
  },
  {
   "cell_type": "markdown",
   "metadata": {
    "pycharm": {
     "name": "#%% md\n"
    }
   },
   "source": [
    "## Conclusion\n",
    "In this tutorial, I have described TMLE for stochastic interventions and its usage in *zEpid*. In this tutorial, I have focused on a complete case analysis for a binary outcome. `StochasticTMLE` is also compatible with continuous outcomes\n",
    "\n",
    "### References\n",
    "Díaz I & van der Laan MJ. (2013). \"Assessing the causal effect of policies: an example using stochastic interventions.\" The International Journal of Biostatistics, 9(2), 161-174."
   ]
  }
 ],
 "metadata": {
  "kernelspec": {
   "display_name": "Python 3",
   "language": "python",
   "name": "python3"
  },
  "language_info": {
   "codemirror_mode": {
    "name": "ipython",
    "version": 3
   },
   "file_extension": ".py",
   "mimetype": "text/x-python",
   "name": "python",
   "nbconvert_exporter": "python",
   "pygments_lexer": "ipython3",
   "version": "3.6.5"
  }
 },
 "nbformat": 4,
 "nbformat_minor": 2
}