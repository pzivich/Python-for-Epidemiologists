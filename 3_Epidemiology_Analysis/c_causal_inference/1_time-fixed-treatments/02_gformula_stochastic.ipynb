{
 "cells": [
  {
   "cell_type": "markdown",
   "metadata": {
    "pycharm": {
     "name": "#%% md\n"
    }
   },
   "source": [
    "# Parametric g-formula: stochastic interventions\n",
    "In the previous tutorial we went over the basics of the parametric g-formula using `TimeFixedGFormula` for basic interventions. Additionally, we can use the g-formula to look at stochastic interventions. Stochastic interventions are treatment plans under which not necessarily everyone is treated, but some random percentage are treated.\n",
    "\n",
    "To estimate the g-formula for stochastic treatments, the process is fairly similar. However, instead of treating everyone, some percentage are treated. A random percentage are treated and then $\\hat{Y_i^a}$ are predicted and averaged. This process is repeated some number times and the average of the averaged potential outcomes is returned.\n",
    "\n",
    "For our example, we will return to the previous data set on ART among HIV-infected individuals and all-cause mortality. First, we will load the data (again ignoring missing data)"
   ]
  },
  {
   "cell_type": "code",
   "execution_count": 1,
   "metadata": {
    "pycharm": {
     "name": "#%%\n"
    }
   },
   "outputs": [
    {
     "name": "stdout",
     "output_type": "stream",
     "text": [
      "0.9.0\n"
     ]
    }
   ],
   "source": [
    "import numpy as np\n",
    "import pandas as pd\n",
    "\n",
    "import zepid \n",
    "from zepid import load_sample_data, spline\n",
    "from zepid.causal.gformula import TimeFixedGFormula\n",
    "\n",
    "print(zepid.__version__)"
   ]
  },
  {
   "cell_type": "code",
   "execution_count": 2,
   "metadata": {
    "pycharm": {
     "name": "#%%\n"
    }
   },
   "outputs": [
    {
     "name": "stdout",
     "output_type": "stream",
     "text": [
      "<class 'pandas.core.frame.DataFrame'>\n",
      "RangeIndex: 517 entries, 0 to 516\n",
      "Data columns (total 9 columns):\n",
      " #   Column  Non-Null Count  Dtype  \n",
      "---  ------  --------------  -----  \n",
      " 0   index   517 non-null    int64  \n",
      " 1   id      517 non-null    int64  \n",
      " 2   male    517 non-null    int64  \n",
      " 3   age0    517 non-null    int64  \n",
      " 4   cd40    517 non-null    int64  \n",
      " 5   dvl0    517 non-null    int64  \n",
      " 6   art     517 non-null    int64  \n",
      " 7   dead    517 non-null    float64\n",
      " 8   t       517 non-null    float64\n",
      "dtypes: float64(2), int64(7)\n",
      "memory usage: 36.5 KB\n"
     ]
    }
   ],
   "source": [
    "df = load_sample_data(timevary=False).drop(columns=['cd4_wk45'])\n",
    "dfs = df.dropna(subset=['dead']).reset_index().copy()\n",
    "dfs.info()\n",
    "\n",
    "dfs[['cd4_rs1', 'cd4_rs2']] = spline(dfs, 'cd40', n_knots=3, term=2, restricted=True)\n",
    "dfs[['age_rs1', 'age_rs2']] = spline(dfs, 'age0', n_knots=3, term=2, restricted=True)"
   ]
  },
  {
   "cell_type": "markdown",
   "metadata": {
    "pycharm": {
     "name": "#%% md\n"
    }
   },
   "source": [
    "Similar to the previous tutorial, we initialize the `TimeFixedGFormula` with the data set (`dfs`), our treatment variable (`art`), and binary outcome (`dead`). Then we fit a regression model predicting all-cause mortality as a function of ART and our set of confounding variables (age, CD4 T-cell count, detectable viral load, gender)"
   ]
  },
  {
   "cell_type": "code",
   "execution_count": 3,
   "metadata": {
    "pycharm": {
     "name": "#%%\n"
    }
   },
   "outputs": [
    {
     "name": "stdout",
     "output_type": "stream",
     "text": [
      "==============================================================================\n",
      "Outcome Model\n",
      "                 Generalized Linear Model Regression Results                  \n",
      "==============================================================================\n",
      "Dep. Variable:                   dead   No. Observations:                  517\n",
      "Model:                            GLM   Df Residuals:                      507\n",
      "Model Family:                Binomial   Df Model:                            9\n",
      "Link Function:                  logit   Scale:                          1.0000\n",
      "Method:                          IRLS   Log-Likelihood:                -202.83\n",
      "Date:                Wed, 30 Dec 2020   Deviance:                       405.67\n",
      "Time:                        08:22:23   Pearson chi2:                     534.\n",
      "No. Iterations:                     6                                         \n",
      "Covariance Type:            nonrobust                                         \n",
      "==============================================================================\n",
      "                 coef    std err          z      P>|z|      [0.025      0.975]\n",
      "------------------------------------------------------------------------------\n",
      "Intercept     -3.9822      2.621     -1.520      0.129      -9.119       1.154\n",
      "art           -0.7278      0.393     -1.854      0.064      -1.497       0.042\n",
      "male          -0.0773      0.334     -0.231      0.817      -0.732       0.578\n",
      "age0           0.1548      0.092      1.689      0.091      -0.025       0.334\n",
      "age_rs1       -0.0059      0.004     -1.493      0.135      -0.014       0.002\n",
      "age_rs2        0.0129      0.006      2.035      0.042       0.000       0.025\n",
      "cd40          -0.0121      0.004     -3.028      0.002      -0.020      -0.004\n",
      "cd4_rs1     1.887e-05   1.19e-05      1.581      0.114   -4.52e-06    4.23e-05\n",
      "cd4_rs2    -3.866e-05   4.57e-05     -0.846      0.398      -0.000    5.09e-05\n",
      "dvl0          -0.1254      0.398     -0.315      0.753      -0.905       0.654\n",
      "==============================================================================\n",
      "==============================================================================\n"
     ]
    }
   ],
   "source": [
    "g = TimeFixedGFormula(dfs, exposure='art', outcome='dead')\n",
    "g.outcome_model(model='art + male + age0 + age_rs1 + age_rs2 + cd40 + cd4_rs1 + cd4_rs2 + dvl0')"
   ]
  },
  {
   "cell_type": "markdown",
   "source": [
    "However, this time we do some backgound research and find that one potential intervention to increase ART prescriptions increases the probability of ART treatment to 80%. As a result, it is potentially misleading to compare the treat-all vs treat-none scenarios. Instead, we will compare the stochastic treatment where 80% of individuals are treated with ART to the scenario where no one is treated.\n",
    "\n",
    "## Stochastic Treatment Plans\n",
    "To do this using `TimeFixedGFormula` we will instead call `fit_stochastic()` function instead of `fit()`. This function allows us to estimate a stochastic treatment. We specify `p=0.8` to have 80% of the population treated at random. By default, `fit_stochastic()` repeats this process 100 times and takes the average of these repeated random treatments. I will also use the `seed` argument to get replicable results. Let's look at the example"
   ],
   "metadata": {
    "collapsed": false,
    "pycharm": {
     "name": "#%% md\n"
    }
   }
  },
  {
   "cell_type": "code",
   "execution_count": 4,
   "metadata": {
    "pycharm": {
     "name": "#%%\n"
    }
   },
   "outputs": [
    {
     "name": "stdout",
     "output_type": "stream",
     "text": [
      "RD: -0.060414048704137496\n"
     ]
    }
   ],
   "source": [
    "g.fit_stochastic(p=0.8, seed=1000191)\n",
    "r_80 = g.marginal_outcome\n",
    "\n",
    "g.fit(treatment='none')\n",
    "r_none = g.marginal_outcome\n",
    "\n",
    "print('RD:', r_80 - r_none)"
   ]
  },
  {
   "cell_type": "markdown",
   "source": [],
   "metadata": {
    "collapsed": false,
    "pycharm": {
     "name": "#%% md\n"
    }
   }
  },
  {
   "cell_type": "markdown",
   "source": [
    "Under the treatment plan where 80% of people are randomly treated, the risk of all-cause mortality would have been 6.0% points lower than if no one was treated. \n",
    "\n",
    "After reading some more articles, we find an alternative treatment plan. Under this plan, 75% of men and 90% of women start using HIV. For this plan, we are interested in a conditional stochastic treatment. Again, we want to compare this to the scenario where no one is treated\n",
    "\n",
    "## Conditional Stochastic Treatment Plans\n",
    "For conditionally stochastic treatments, we instead provide `p` a list of probabilities. Additionally, we specify the `conditional` argument with the group restrictions. Again, we will need to use the magic-g functionality. Below is the example of the stochastic plan where 75% of men are treated and 90% of women are treated"
   ],
   "metadata": {
    "collapsed": false,
    "pycharm": {
     "name": "#%% md\n"
    }
   }
  },
  {
   "cell_type": "code",
   "execution_count": 5,
   "metadata": {
    "pycharm": {
     "name": "#%%\n"
    }
   },
   "outputs": [
    {
     "name": "stdout",
     "output_type": "stream",
     "text": [
      "RD: -0.05865619552516273\n"
     ]
    }
   ],
   "source": [
    "g.fit_stochastic(p=[0.75, 0.90], conditional=[\"g['male']==1\", \"g['male']==0\"], seed=518012)\n",
    "r_cs = g.marginal_outcome\n",
    "\n",
    "print('RD:', r_cs - r_none)"
   ]
  },
  {
   "cell_type": "markdown",
   "metadata": {
    "pycharm": {
     "name": "#%% md\n"
    }
   },
   "source": [
    "Under the treatment plan where 75% of men and 90% of women are randomly treated, the risk of all-cause mortality would have been 5.9% points lower than if no one was treated. This plan reduces the marginal mortality less than the previous stochastic plan because our HIV-infected population is predominantly men. \n",
    "\n",
    "# Conclusion\n",
    "In this tutorial, I detailed stochastic treatment plans using the g-formula. While presented for a binary outcome, the same procedure can also be used to estimate stochastic treatments for continuous outcomes. Please view other tutorials for information other functions in *zEpid*\n",
    "\n",
    "## Further Readings\n",
    "Ahern et al. (2016). Predicting the population health impacts of community interventions: the case of alcohol outlets and binge drinking. *AJPH*, 106(11), 1938-1943.\n",
    "\n",
    "Snowden et al. (2011) \"Implementation of G-computation on a simulated data set: demonstration of a causal inference technique.\" *AJE* 173.7: 731-738.\n",
    "\n",
    "Robins. (1986) \"A new approach to causal inference in mortality studies with a sustained exposure period—application to control of the healthy worker survivor effect.\" *Mathematical modelling* 7.9-12: 1393-1512"
   ]
  }
 ],
 "metadata": {
  "kernelspec": {
   "display_name": "Python 3",
   "language": "python",
   "name": "python3"
  },
  "language_info": {
   "codemirror_mode": {
    "name": "ipython",
    "version": 3
   },
   "file_extension": ".py",
   "mimetype": "text/x-python",
   "name": "python",
   "nbconvert_exporter": "python",
   "pygments_lexer": "ipython3",
   "version": "3.6.5"
  }
 },
 "nbformat": 4,
 "nbformat_minor": 2
}